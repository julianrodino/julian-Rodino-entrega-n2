{
 "cells": [
  {
   "cell_type": "code",
   "execution_count": 4,
   "id": "a1727885-713a-4df3-8426-b49d84b05797",
   "metadata": {},
   "outputs": [
    {
     "name": "stdout",
     "output_type": "stream",
     "text": [
      "                 Plato                          Ingredientes  \\\n",
      "0    Ñoquis de boniato   Ingredientes: (rinde 4-5 porciones)   \n",
      "1                  NaN             500 gr de puré de boniato   \n",
      "2                  NaN                   200 gr de premezcla   \n",
      "3                  NaN                               1 huevo   \n",
      "4                  NaN  Sal, pimienta y nuez moscada a gusto   \n",
      "..                 ...                                   ...   \n",
      "497                NaN                        200 gr de papa   \n",
      "498                NaN             100 gr de harina de arroz   \n",
      "499                NaN              50 gr de almidón de maíz   \n",
      "500                NaN              50 gr fécula de mandioca   \n",
      "501                NaN            20 cc de aceite de girasol   \n",
      "\n",
      "                                           Preparacion  \n",
      "0    Pelar los boniatos y cocinarlos en el horno pa...  \n",
      "1                                                  NaN  \n",
      "2                                                  NaN  \n",
      "3                                                  NaN  \n",
      "4                                                  NaN  \n",
      "..                                                 ...  \n",
      "497                                                NaN  \n",
      "498                                                NaN  \n",
      "499                                                NaN  \n",
      "500                                                NaN  \n",
      "501                                                NaN  \n",
      "\n",
      "[426 rows x 3 columns]\n"
     ]
    }
   ],
   "source": [
    "import pandas as pd\n",
    "\n",
    "# Ruta al archivo Excel\n",
    "archivo_excel = 'C:/Users/julia/Desktop/Coder/Base de datos/Base de datos Recetas.xlsx'\n",
    "\n",
    "# Leer el archivo Excel\n",
    "df = pd.read_excel(archivo_excel)\n",
    "\n",
    "# Eliminar filas y columnas completamente vacías\n",
    "df.dropna(how='all', inplace=True) # Elimina filas completamente vacías\n",
    "df.dropna(how='all', axis=1, inplace=True) # Elimina columnas completamente vacías\n",
    "\n",
    "# Visualizar el DataFrame resultante\n",
    "print(df)\n",
    "\n"
   ]
  },
  {
   "cell_type": "code",
   "execution_count": null,
   "id": "4bfbea1b-192d-4255-8805-c84c987fa1e6",
   "metadata": {},
   "outputs": [],
   "source": [
    "import pandas as pd\n",
    "import openai\n",
    "\n",
    "# Api\n",
    "openai.api_key = \"-------------------------\"\n"
   ]
  },
  {
   "cell_type": "code",
   "execution_count": null,
   "id": "1eba5d43-e47c-4acd-92d0-8d3e579b552f",
   "metadata": {},
   "outputs": [],
   "source": [
    "#Archivo\n",
    "archivo_excel = 'C:/Users/julia/Desktop/Coder/Base de datos/Base de datos Recetas.xlsx'\n",
    "\n",
    "df = pd.read_excel(archivo_excel)\n",
    "df.dropna(how='all', inplace=True)  # Elimina filas completamente vacías\n",
    "df.dropna(how='all', axis=1, inplace=True)  # Elimina columnas completamente vacías\n",
    "\n",
    "#Prompt\n",
    "prompt = \"Dame una comida rápida de hacer que contenga huevo, pimienta y cualquier tipo de elemento mas.\"\n",
    "\n",
    "response = openai.ChatCompletion.create(\n",
    "    model='gpt-3.5-turbo',\n",
    "    messages=[{\"role\": \"user\", \"content\": prompt}],\n",
    "    max_tokens=100\n",
    ")\n",
    "\n",
    "#Print\n",
    "print(\"Recomendación:\", response.choices[0].text.strip())"
   ]
  }
 ],
 "metadata": {
  "kernelspec": {
   "display_name": "Python 3 (ipykernel)",
   "language": "python",
   "name": "python3"
  },
  "language_info": {
   "codemirror_mode": {
    "name": "ipython",
    "version": 3
   },
   "file_extension": ".py",
   "mimetype": "text/x-python",
   "name": "python",
   "nbconvert_exporter": "python",
   "pygments_lexer": "ipython3",
   "version": "3.11.7"
  }
 },
 "nbformat": 4,
 "nbformat_minor": 5
}
